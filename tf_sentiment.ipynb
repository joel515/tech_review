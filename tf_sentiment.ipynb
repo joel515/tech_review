{
 "cells": [
  {
   "cell_type": "code",
   "execution_count": 1,
   "metadata": {},
   "outputs": [],
   "source": [
    "import numpy as np\n",
    "\n",
    "import tensorflow as tf\n",
    "import tensorflow_hub as hub\n",
    "import tensorflow_datasets as tfds\n",
    "\n",
    "import matplotlib.pyplot as plt"
   ]
  },
  {
   "cell_type": "code",
   "execution_count": 2,
   "metadata": {},
   "outputs": [
    {
     "name": "stdout",
     "output_type": "stream",
     "text": [
      "Version:  2.3.1\n",
      "Eager mode:  True\n",
      "Hub version:  0.10.0\n",
      "GPU is available\n"
     ]
    }
   ],
   "source": [
    "print(\"Version: \", tf.__version__)\n",
    "print(\"Eager mode: \", tf.executing_eagerly())\n",
    "print(\"Hub version: \", hub.__version__)\n",
    "print(\"GPU is\", \"available\" if tf.config.list_physical_devices('GPU') else \"NOT AVAILABLE\")"
   ]
  },
  {
   "cell_type": "code",
   "execution_count": 3,
   "metadata": {},
   "outputs": [],
   "source": [
    "train_data, test_data = tfds.load(name=\"imdb_reviews\", split=[\"train\", \"test\"], \n",
    "                                  batch_size=-1, as_supervised=True)\n",
    "\n",
    "train_examples, train_labels = tfds.as_numpy(train_data)\n",
    "test_examples, test_labels = tfds.as_numpy(test_data)"
   ]
  },
  {
   "cell_type": "code",
   "execution_count": 4,
   "metadata": {},
   "outputs": [
    {
     "name": "stdout",
     "output_type": "stream",
     "text": [
      "Training entries: 25000, test entries: 25000\n"
     ]
    },
    {
     "data": {
      "text/plain": [
       "array([0, 0, 0, 1, 1, 1, 0, 0, 0, 0], dtype=int64)"
      ]
     },
     "execution_count": 4,
     "metadata": {},
     "output_type": "execute_result"
    }
   ],
   "source": [
    "print(\"Training entries: {}, test entries: {}\".format(len(train_examples), len(test_examples)))\n",
    "\n",
    "train_examples[:10]\n",
    "train_labels[:10]"
   ]
  },
  {
   "cell_type": "code",
   "execution_count": 5,
   "metadata": {},
   "outputs": [
    {
     "name": "stdout",
     "output_type": "stream",
     "text": [
      "Model: \"sequential\"\n",
      "_________________________________________________________________\n",
      "Layer (type)                 Output Shape              Param #   \n",
      "=================================================================\n",
      "keras_layer (KerasLayer)     (None, 20)                400020    \n",
      "_________________________________________________________________\n",
      "dense (Dense)                (None, 16)                336       \n",
      "_________________________________________________________________\n",
      "dense_1 (Dense)              (None, 1)                 17        \n",
      "=================================================================\n",
      "Total params: 400,373\n",
      "Trainable params: 400,373\n",
      "Non-trainable params: 0\n",
      "_________________________________________________________________\n"
     ]
    }
   ],
   "source": [
    "model = \"https://tfhub.dev/google/tf2-preview/gnews-swivel-20dim/1\"\n",
    "# model = \"https://tfhub.dev/google/tf2-preview/nnlm-en-dim128/1\"\n",
    "hub_layer = hub.KerasLayer(model, output_shape=[20], input_shape=[], \n",
    "                           dtype=tf.string, trainable=True)\n",
    "\n",
    "model = tf.keras.Sequential()\n",
    "model.add(hub_layer)\n",
    "model.add(tf.keras.layers.Dense(16, activation='relu'))\n",
    "model.add(tf.keras.layers.Dense(1))\n",
    "\n",
    "model.summary()"
   ]
  },
  {
   "cell_type": "code",
   "execution_count": 6,
   "metadata": {},
   "outputs": [],
   "source": [
    "model.compile(optimizer='adam',\n",
    "              loss=tf.losses.BinaryCrossentropy(from_logits=True),\n",
    "              metrics=[tf.metrics.BinaryAccuracy(threshold=0.0, name='accuracy')])"
   ]
  },
  {
   "cell_type": "code",
   "execution_count": 7,
   "metadata": {},
   "outputs": [
    {
     "name": "stdout",
     "output_type": "stream",
     "text": [
      "Epoch 1/20\n",
      "30/30 [==============================] - 2s 62ms/step - loss: 1.1038 - accuracy: 0.5280 - val_loss: 0.6904 - val_accuracy: 0.5607\n",
      "Epoch 2/20\n",
      "30/30 [==============================] - 2s 55ms/step - loss: 0.6789 - accuracy: 0.5783 - val_loss: 0.6597 - val_accuracy: 0.6151\n",
      "Epoch 3/20\n",
      "30/30 [==============================] - 2s 56ms/step - loss: 0.6412 - accuracy: 0.6439 - val_loss: 0.6314 - val_accuracy: 0.6532\n",
      "Epoch 4/20\n",
      "30/30 [==============================] - 2s 56ms/step - loss: 0.6105 - accuracy: 0.6800 - val_loss: 0.6031 - val_accuracy: 0.6905\n",
      "Epoch 5/20\n",
      "30/30 [==============================] - 2s 56ms/step - loss: 0.5799 - accuracy: 0.7122 - val_loss: 0.5754 - val_accuracy: 0.7153\n",
      "Epoch 6/20\n",
      "30/30 [==============================] - 2s 55ms/step - loss: 0.5494 - accuracy: 0.7383 - val_loss: 0.5482 - val_accuracy: 0.7378\n",
      "Epoch 7/20\n",
      "30/30 [==============================] - 2s 57ms/step - loss: 0.5181 - accuracy: 0.7661 - val_loss: 0.5172 - val_accuracy: 0.7614\n",
      "Epoch 8/20\n",
      "30/30 [==============================] - 2s 55ms/step - loss: 0.4829 - accuracy: 0.7875 - val_loss: 0.4871 - val_accuracy: 0.7783\n",
      "Epoch 9/20\n",
      "30/30 [==============================] - 2s 55ms/step - loss: 0.4479 - accuracy: 0.8119 - val_loss: 0.4582 - val_accuracy: 0.7925\n",
      "Epoch 10/20\n",
      "30/30 [==============================] - 2s 55ms/step - loss: 0.4138 - accuracy: 0.8302 - val_loss: 0.4314 - val_accuracy: 0.8100\n",
      "Epoch 11/20\n",
      "30/30 [==============================] - 2s 55ms/step - loss: 0.3818 - accuracy: 0.8455 - val_loss: 0.4083 - val_accuracy: 0.8213\n",
      "Epoch 12/20\n",
      "30/30 [==============================] - 2s 55ms/step - loss: 0.3519 - accuracy: 0.8578 - val_loss: 0.3888 - val_accuracy: 0.8317\n",
      "Epoch 13/20\n",
      "30/30 [==============================] - 2s 55ms/step - loss: 0.3256 - accuracy: 0.8698 - val_loss: 0.3700 - val_accuracy: 0.8400\n",
      "Epoch 14/20\n",
      "30/30 [==============================] - 2s 55ms/step - loss: 0.3017 - accuracy: 0.8811 - val_loss: 0.3556 - val_accuracy: 0.8486\n",
      "Epoch 15/20\n",
      "30/30 [==============================] - 2s 55ms/step - loss: 0.2802 - accuracy: 0.8911 - val_loss: 0.3437 - val_accuracy: 0.8558\n",
      "Epoch 16/20\n",
      "30/30 [==============================] - 2s 57ms/step - loss: 0.2607 - accuracy: 0.8998 - val_loss: 0.3340 - val_accuracy: 0.8604\n",
      "Epoch 17/20\n",
      "30/30 [==============================] - 2s 58ms/step - loss: 0.2433 - accuracy: 0.9072 - val_loss: 0.3268 - val_accuracy: 0.8634\n",
      "Epoch 18/20\n",
      "30/30 [==============================] - 2s 56ms/step - loss: 0.2274 - accuracy: 0.9150 - val_loss: 0.3198 - val_accuracy: 0.8668\n",
      "Epoch 19/20\n",
      "30/30 [==============================] - 2s 55ms/step - loss: 0.2131 - accuracy: 0.9233 - val_loss: 0.3160 - val_accuracy: 0.8700\n",
      "Epoch 20/20\n",
      "30/30 [==============================] - 2s 56ms/step - loss: 0.1992 - accuracy: 0.9284 - val_loss: 0.3112 - val_accuracy: 0.8726\n"
     ]
    }
   ],
   "source": [
    "x_val = train_examples[:10000]\n",
    "partial_x_train = train_examples[10000:]\n",
    "\n",
    "y_val = train_labels[:10000]\n",
    "partial_y_train = train_labels[10000:]\n",
    "\n",
    "history = model.fit(partial_x_train,\n",
    "                    partial_y_train,\n",
    "                    epochs=20,\n",
    "                    batch_size=512,\n",
    "                    validation_data=(x_val, y_val),\n",
    "                    verbose=1)"
   ]
  },
  {
   "cell_type": "code",
   "execution_count": 8,
   "metadata": {},
   "outputs": [
    {
     "name": "stdout",
     "output_type": "stream",
     "text": [
      "782/782 [==============================] - 3s 4ms/step - loss: 0.3191 - accuracy: 0.8644\n",
      "[0.31910908222198486, 0.8644000291824341]\n"
     ]
    }
   ],
   "source": [
    "results = model.evaluate(test_data, test_labels)\n",
    "\n",
    "print(results)"
   ]
  },
  {
   "cell_type": "code",
   "execution_count": 9,
   "metadata": {},
   "outputs": [],
   "source": [
    "history_dict = history.history\n",
    "history_dict.keys()\n",
    "\n",
    "acc = history_dict['accuracy']\n",
    "val_acc = history_dict['val_accuracy']\n",
    "loss = history_dict['loss']\n",
    "val_loss = history_dict['val_loss']\n",
    "\n",
    "epochs = range(1, len(acc) + 1)"
   ]
  },
  {
   "cell_type": "code",
   "execution_count": 10,
   "metadata": {},
   "outputs": [
    {
     "data": {
      "image/png": "[encoded data removed]",
      "text/plain": [
       "<Figure size 432x288 with 1 Axes>"
      ]
     },
     "metadata": {
      "needs_background": "light"
     },
     "output_type": "display_data"
    }
   ],
   "source": [
    "# \"bo\" is for \"blue dot\"\n",
    "plt.plot(epochs, loss, 'bo', label='Training loss')\n",
    "# b is for \"solid blue line\"\n",
    "plt.plot(epochs, val_loss, 'b', label='Validation loss')\n",
    "plt.title('Training and validation loss')\n",
    "plt.xlabel('Epochs')\n",
    "plt.ylabel('Loss')\n",
    "plt.legend()\n",
    "\n",
    "plt.show()"
   ]
  },
  {
   "cell_type": "code",
   "execution_count": 11,
   "metadata": {},
   "outputs": [
    {
     "data": {
      "image/png": "[encoded data removed]",
      "text/plain": [
       "<Figure size 432x288 with 1 Axes>"
      ]
     },
     "metadata": {
      "needs_background": "light"
     },
     "output_type": "display_data"
    }
   ],
   "source": [
    "plt.clf()   # clear figure\n",
    "\n",
    "plt.plot(epochs, acc, 'bo', label='Training acc')\n",
    "plt.plot(epochs, val_acc, 'b', label='Validation acc')\n",
    "plt.title('Training and validation accuracy')\n",
    "plt.xlabel('Epochs')\n",
    "plt.ylabel('Accuracy')\n",
    "plt.legend()\n",
    "\n",
    "plt.show()"
   ]
  },
  {
   "cell_type": "code",
   "execution_count": 12,
   "metadata": {},
   "outputs": [],
   "source": [
    "pred = model.predict(test_data)"
   ]
  },
  {
   "cell_type": "code",
   "execution_count": 13,
   "metadata": {},
   "outputs": [],
   "source": [
    "bin_pred = []\n",
    "rng = list(range(0, 64))\n",
    "rng.extend(list(range(65, 101)))\n",
    "num = len(rng)\n",
    "for p in [pred[x] for x in rng]:\n",
    "    if p < 0:\n",
    "        bin_pred.append(0)\n",
    "    else:\n",
    "        bin_pred.append(1)"
   ]
  },
  {
   "cell_type": "code",
   "execution_count": 14,
   "metadata": {},
   "outputs": [
    {
     "data": {
      "text/plain": [
       "0.82"
      ]
     },
     "execution_count": 14,
     "metadata": {},
     "output_type": "execute_result"
    }
   ],
   "source": [
    "comp = []\n",
    "for idx, p in enumerate(bin_pred):\n",
    "    comp.append(abs(p - test_labels[rng[idx]]))\n",
    "\n",
    "(num - sum(comp))/num"
   ]
  },
  {
   "cell_type": "code",
   "execution_count": 15,
   "metadata": {
    "scrolled": true
   },
   "outputs": [],
   "source": [
    "inc_val = np.zeros(len(comp))\n",
    "for i, c in enumerate(comp):\n",
    "    if c:\n",
    "        inc_val[i] = pred[i]"
   ]
  },
  {
   "cell_type": "code",
   "execution_count": 16,
   "metadata": {},
   "outputs": [
    {
     "data": {
      "text/plain": [
       "3.961634397506714"
      ]
     },
     "execution_count": 16,
     "metadata": {},
     "output_type": "execute_result"
    }
   ],
   "source": [
    "max(inc_val)"
   ]
  },
  {
   "cell_type": "code",
   "execution_count": 17,
   "metadata": {},
   "outputs": [
    {
     "data": {
      "text/plain": [
       "-4.261927604675293"
      ]
     },
     "execution_count": 17,
     "metadata": {},
     "output_type": "execute_result"
    }
   ],
   "source": [
    "min(inc_val)"
   ]
  },
  {
   "cell_type": "code",
   "execution_count": 18,
   "metadata": {},
   "outputs": [
    {
     "data": {
      "text/plain": [
       "b'Count Laszlo (Ralph Fiennes) has just been transferred to a hospital in Italy during World War II. He is horrifically burned from an ambush. His nurse Hana (Juliette Binoche) tends to him, body and mind, for she fears, quite rightly, that he may be a very troubled soul. In the course of his care, the Count starts to tell Hana of his recent past. It seems he worked in a government capacity in Africa, where he met a beautiful married lady named Katherine (Kristin Scott Thomas). Although they tried to avoid each other, they fell in love. After a brief affair, Katherine called it quits, leaving the Count desolate. Even so, the two would meet again, under heart-wrenching circumstances. Meanwhile, Hana herself falls for a Sihk man in the British bomb squad. Yet, the war is raging relentlessly. Can love exist when the world is in turmoil? This is a tremendous film, based on an equally fine but complex novel. The plot has many story lines that are woven together beautifully, each of them poignant beyond description. The script itself is elegant and contains many memorable lines. Fiennes is magnificent, both as the burn victim and as the man who thought love was a myth. Scott Thomas is also quite fine as the woman who fights against her passions. As for Binoche, she richly deserved the Oscar that she was presented, as her nurse is a shining example of hope in a hopeless situation. The scenery is utterly gorgeous, as are the costumes, the direction, and the production. If you have missed out on viewing this film, rectify that soon, very soon. The English Patient will remain one of the greatest achievements in film for centuries to come.'"
      ]
     },
     "execution_count": 18,
     "metadata": {},
     "output_type": "execute_result"
    }
   ],
   "source": [
    "test_examples[np.argmax(inc_val)]"
   ]
  },
  {
   "cell_type": "code",
   "execution_count": 19,
   "metadata": {},
   "outputs": [
    {
     "data": {
      "text/plain": [
       "1"
      ]
     },
     "execution_count": 19,
     "metadata": {},
     "output_type": "execute_result"
    }
   ],
   "source": [
    "test_labels[np.argmax(inc_val)]"
   ]
  },
  {
   "cell_type": "code",
   "execution_count": 20,
   "metadata": {},
   "outputs": [
    {
     "data": {
      "text/plain": [
       "0"
      ]
     },
     "execution_count": 20,
     "metadata": {},
     "output_type": "execute_result"
    }
   ],
   "source": [
    "bin_pred[np.argmax(inc_val)]"
   ]
  },
  {
   "cell_type": "code",
   "execution_count": 21,
   "metadata": {},
   "outputs": [
    {
     "data": {
      "text/plain": [
       "b'I happened to catch this on TV, and wanted to watch because I remembered the Spin magazine article upon which the movie is based. I was very disappointed. First, if James Belushi is the lead actor in a movie, it should be a sign that it\\'s not exactly an A-list production. Gregory Hines was a world class dancer, but sadly not a great actor.<br /><br />In fact, all of the acting in this film is either flat or hammy, which can only be blamed on the director, who is this film\\'s weakest link. Charles Carner seemed to be trying to ape Oliver Stone\\'s \"JFK\" in portraying the alleged conspiracy to cover up the \"real\" child murderer(s), but without the benefit of a good script, an A-list cast or, it must be said, the talent. It just doesn\\'t work.<br /><br />It\\'s a shame that such a worthy topic for a film did not get better treatment.'"
      ]
     },
     "execution_count": 21,
     "metadata": {},
     "output_type": "execute_result"
    }
   ],
   "source": [
    "test_examples[np.argmin(inc_val)]"
   ]
  },
  {
   "cell_type": "code",
   "execution_count": 22,
   "metadata": {},
   "outputs": [
    {
     "data": {
      "text/plain": [
       "0"
      ]
     },
     "execution_count": 22,
     "metadata": {},
     "output_type": "execute_result"
    }
   ],
   "source": [
    "test_labels[np.argmin(inc_val)]"
   ]
  },
  {
   "cell_type": "code",
   "execution_count": 23,
   "metadata": {},
   "outputs": [
    {
     "data": {
      "text/plain": [
       "1"
      ]
     },
     "execution_count": 23,
     "metadata": {},
     "output_type": "execute_result"
    }
   ],
   "source": [
    "bin_pred[np.argmin(inc_val)]"
   ]
  },
  {
   "cell_type": "code",
   "execution_count": null,
   "metadata": {},
   "outputs": [],
   "source": []
  }
 ],
 "metadata": {
  "kernelspec": {
   "display_name": "Python 3",
   "language": "python",
   "name": "python3"
  },
  "language_info": {
   "codemirror_mode": {
    "name": "ipython",
    "version": 3
   },
   "file_extension": ".py",
   "mimetype": "text/x-python",
   "name": "python",
   "nbconvert_exporter": "python",
   "pygments_lexer": "ipython3",
   "version": "3.8.5"
  }
 },
 "nbformat": 4,
 "nbformat_minor": 4
}
